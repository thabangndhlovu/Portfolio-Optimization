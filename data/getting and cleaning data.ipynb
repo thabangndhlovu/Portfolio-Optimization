{
 "cells": [
  {
   "cell_type": "markdown",
   "id": "62903280-892e-4fd4-9616-7bd7d6f0e609",
   "metadata": {},
   "source": [
    "# Getting and Cleaning Data\n",
    "\n",
    "To get the stock and index data I used `investpy` package [you can find it here.](http://www.github.com/alvarobartt)"
   ]
  },
  {
   "cell_type": "code",
   "execution_count": 1,
   "id": "01a2826e-b6c1-4116-8593-f7642113ba36",
   "metadata": {},
   "outputs": [],
   "source": [
    "from investpy import get_stock_historical_data, get_index_historical_data, search_quotes"
   ]
  },
  {
   "cell_type": "markdown",
   "id": "098b2437-3c03-4563-8bf1-0b1adc34ccdd",
   "metadata": {},
   "source": [
    "### Index"
   ]
  },
  {
   "cell_type": "code",
   "execution_count": 2,
   "id": "9fbed9e5-2207-4801-afd8-55e8784c5ecb",
   "metadata": {},
   "outputs": [],
   "source": [
    "# download index data\n",
    "index = get_index_historical_data(index='ftse/jse top 40',\n",
    "                                  country='South Africa', \n",
    "                                  from_date='01/01/2017', \n",
    "                                  to_date='31/01/2022')[['Close']]\n",
    "index.columns = ['INDEX']"
   ]
  },
  {
   "cell_type": "code",
   "execution_count": 3,
   "id": "bd635886-19a4-4a92-b568-bf754dc8c118",
   "metadata": {},
   "outputs": [
    {
     "name": "stdout",
     "output_type": "stream",
     "text": [
      "<class 'pandas.core.frame.DataFrame'>\n",
      "DatetimeIndex: 1271 entries, 2017-01-03 to 2022-01-31\n",
      "Data columns (total 1 columns):\n",
      " #   Column  Non-Null Count  Dtype  \n",
      "---  ------  --------------  -----  \n",
      " 0   INDEX   1271 non-null   float64\n",
      "dtypes: float64(1)\n",
      "memory usage: 19.9 KB\n"
     ]
    }
   ],
   "source": [
    "index.info()"
   ]
  },
  {
   "cell_type": "code",
   "execution_count": 4,
   "id": "a12f8b8c-5ae1-4cfd-8997-76d8f2b750d2",
   "metadata": {},
   "outputs": [
    {
     "name": "stdout",
     "output_type": "stream",
     "text": [
      "Missing Index Values: 0 \n",
      "\n"
     ]
    }
   ],
   "source": [
    "print(f'Missing Index Values: {index.isnull().values.sum()} \\n')"
   ]
  },
  {
   "cell_type": "code",
   "execution_count": 5,
   "id": "176f78e5-afe7-447d-b100-7407d468dd91",
   "metadata": {},
   "outputs": [],
   "source": [
    "index.to_csv('index.csv')"
   ]
  },
  {
   "cell_type": "markdown",
   "id": "27b78b22-f6af-4a1d-a00e-2b31cab7ff44",
   "metadata": {},
   "source": [
    "### Stocks"
   ]
  },
  {
   "cell_type": "code",
   "execution_count": 6,
   "id": "7748a410-19a1-48f8-9dba-5cafea054c48",
   "metadata": {},
   "outputs": [],
   "source": [
    "tickers = ['ABGJ','AGLJ','AMSJ','ANGJ','ANHJ','APNJ','BIDJ','BHPJ','BTIJ','BVTJ','CFRJ','CLSJ','CPIJ','DSYJ','EXXJ','FSRJ',\n",
    "           'GFIJ','GLNJ','IMPJ','INPJ','KIOJ','MCGJ','MNPJ','MTNJ','NEDJ','NRPJ','NHMJ','OMUJ','PPHJ','REMJ','NPNJn','PRXJn',\n",
    "           'RNIJ','S32J','SBKJ','SHPJ','SLMJ','SOLJ','VODJ'] "
   ]
  },
  {
   "cell_type": "code",
   "execution_count": 7,
   "id": "a71ee924-04bf-4d54-9303-0bc69f7bf4e4",
   "metadata": {},
   "outputs": [],
   "source": [
    "# download stocks data\n",
    "stocks = pd.concat(\n",
    "    [get_stock_historical_data(\n",
    "        stock = ticker, \n",
    "        country = 'South Africa', \n",
    "        from_date = '01/01/2017', \n",
    "        to_date = '31/01/2022')[['Close']] \n",
    "    for ticker in tickers], axis=1)\n",
    "\n",
    "stocks.columns = tickers\n",
    "\n",
    "# download SSWJ stock data\n",
    "SSWJ = search_quotes(\n",
    "    text='sibanye stillwater', \n",
    "    products=['stocks'], \n",
    "    countries=['South Africa'], \n",
    "    n_results=1).retrieve_historical_data(\n",
    "    from_date='01/01/2017', \n",
    "    to_date='31/01/2022')[['Close']]\n",
    "\n",
    "SSWJ.columns = ['SSWJ']\n",
    "\n",
    "stocks = pd.concat([stocks, SSWJ], axis=1)"
   ]
  },
  {
   "cell_type": "code",
   "execution_count": 8,
   "id": "aad64199-6e5e-45d3-9321-0d192ca1ef40",
   "metadata": {},
   "outputs": [
    {
     "name": "stdout",
     "output_type": "stream",
     "text": [
      "<class 'pandas.core.frame.DataFrame'>\n",
      "DatetimeIndex: 1271 entries, 2017-01-03 to 2022-01-31\n",
      "Data columns (total 40 columns):\n",
      " #   Column  Non-Null Count  Dtype  \n",
      "---  ------  --------------  -----  \n",
      " 0   ABGJ    1271 non-null   float64\n",
      " 1   AGLJ    1271 non-null   float64\n",
      " 2   AMSJ    1271 non-null   float64\n",
      " 3   ANGJ    1271 non-null   float64\n",
      " 4   ANHJ    1271 non-null   float64\n",
      " 5   APNJ    1271 non-null   float64\n",
      " 6   BIDJ    1271 non-null   float64\n",
      " 7   BHPJ    1270 non-null   float64\n",
      " 8   BTIJ    1271 non-null   float64\n",
      " 9   BVTJ    1271 non-null   float64\n",
      " 10  CFRJ    1271 non-null   float64\n",
      " 11  CLSJ    1271 non-null   float64\n",
      " 12  CPIJ    1271 non-null   float64\n",
      " 13  DSYJ    1271 non-null   float64\n",
      " 14  EXXJ    1271 non-null   float64\n",
      " 15  FSRJ    1271 non-null   float64\n",
      " 16  GFIJ    1271 non-null   float64\n",
      " 17  GLNJ    1271 non-null   float64\n",
      " 18  IMPJ    1271 non-null   float64\n",
      " 19  INPJ    1271 non-null   float64\n",
      " 20  KIOJ    1271 non-null   float64\n",
      " 21  MCGJ    731 non-null    float64\n",
      " 22  MNPJ    1271 non-null   float64\n",
      " 23  MTNJ    1271 non-null   float64\n",
      " 24  NEDJ    1271 non-null   float64\n",
      " 25  NRPJ    1140 non-null   float64\n",
      " 26  NHMJ    1176 non-null   float64\n",
      " 27  OMUJ    1270 non-null   float64\n",
      " 28  PPHJ    1091 non-null   float64\n",
      " 29  REMJ    1271 non-null   float64\n",
      " 30  NPNJn   1271 non-null   float64\n",
      " 31  PRXJn   598 non-null    float64\n",
      " 32  RNIJ    1271 non-null   float64\n",
      " 33  S32J    1271 non-null   float64\n",
      " 34  SBKJ    1271 non-null   float64\n",
      " 35  SHPJ    1271 non-null   float64\n",
      " 36  SLMJ    1271 non-null   float64\n",
      " 37  SOLJ    1271 non-null   float64\n",
      " 38  VODJ    1271 non-null   float64\n",
      " 39  SSWJ    1271 non-null   float64\n",
      "dtypes: float64(40)\n",
      "memory usage: 407.1 KB\n"
     ]
    }
   ],
   "source": [
    "stocks.info()"
   ]
  },
  {
   "cell_type": "code",
   "execution_count": 9,
   "id": "a82fe539-e310-4515-99be-a64d752280f1",
   "metadata": {},
   "outputs": [
    {
     "name": "stdout",
     "output_type": "stream",
     "text": [
      "Missing Stock Values: 1621 \n",
      "\n"
     ]
    }
   ],
   "source": [
    "print(f'Missing Stock Values: {stocks.isnull().values.sum()} \\n')"
   ]
  },
  {
   "cell_type": "markdown",
   "id": "22c029e3-d7ae-4253-b1eb-c3e04b1878c3",
   "metadata": {},
   "source": [
    "XXXXXXXX"
   ]
  },
  {
   "cell_type": "code",
   "execution_count": 10,
   "id": "737ffb15-89b5-484c-9e91-d34321e169ac",
   "metadata": {},
   "outputs": [],
   "source": [
    "# fill stocks with missing values at the beginning \n",
    "missing_data_stocksB = ['MCGJ','PRXJn','MCGJ','PPHJ','NRPJ']\n",
    "\n",
    "for stock in missing_data_stocksB:\n",
    "    stocks[stock].bfill(inplace=True)\n",
    "    \n",
    "# fill stocks with missing values at the end\n",
    "missing_data_stocksE = ['NHMJ','BHPJ','OMUJ']\n",
    "\n",
    "for stock in missing_data_stocksE:\n",
    "    stocks[stock].ffill(inplace=True)"
   ]
  },
  {
   "cell_type": "code",
   "execution_count": 11,
   "id": "55b471df-c242-4c15-8c91-85576f462470",
   "metadata": {},
   "outputs": [
    {
     "name": "stdout",
     "output_type": "stream",
     "text": [
      "Missing Stock Values: 0 \n",
      "\n"
     ]
    }
   ],
   "source": [
    "print(f'Missing Stock Values: {stocks.isnull().values.sum()} \\n')"
   ]
  },
  {
   "cell_type": "code",
   "execution_count": 12,
   "id": "3111a88a-2576-4661-8316-1b563a6b8739",
   "metadata": {},
   "outputs": [],
   "source": [
    "stocks.to_csv('stocks.csv')"
   ]
  }
 ],
 "metadata": {
  "kernelspec": {
   "display_name": "Python 3 (ipykernel)",
   "language": "python",
   "name": "python3"
  },
  "language_info": {
   "codemirror_mode": {
    "name": "ipython",
    "version": 3
   },
   "file_extension": ".py",
   "mimetype": "text/x-python",
   "name": "python",
   "nbconvert_exporter": "python",
   "pygments_lexer": "ipython3",
   "version": "3.9.12"
  }
 },
 "nbformat": 4,
 "nbformat_minor": 5
}
